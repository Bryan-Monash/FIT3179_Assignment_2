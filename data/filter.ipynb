{
 "cells": [
  {
   "cell_type": "code",
   "execution_count": null,
   "id": "20593fd2",
   "metadata": {},
   "outputs": [],
   "source": [
    "\n",
    "import pandas as pd\n",
    "\n",
    "# Load your CSV\n",
    "df = pd.read_csv(\"ridership_headline.csv\")\n",
    "\n",
    "# 1. Fill empty values (NaN) with 0\n",
    "df = df.fillna(0)\n",
    "\n",
    "# 2. Remove all bus columns\n",
    "df = df.drop(columns=[c for c in df.columns if c.startswith(\"bus_\")])\n",
    "\n",
    "# 3. Combine ETS, Intercity, Komuter_Utara, Tebrau, and Komuter into one column\n",
    "df[\"rail_komuter\"] = (\n",
    "    df[\"rail_ets\"]\n",
    "    + df[\"rail_intercity\"]\n",
    "    + df[\"rail_komuter_utara\"]\n",
    "    + df[\"rail_tebrau\"]\n",
    "    + df[\"rail_komuter\"]\n",
    ")\n",
    "\n",
    "# 4. Drop the old columns (optional)\n",
    "df = df.drop(columns=[\"rail_ets\", \"rail_intercity\", \"rail_komuter_utara\", \"rail_tebrau\"])\n",
    "\n",
    "df.rename(columns={\n",
    "    \"rail_lrt_ampang\": \"Ampang Line\",\n",
    "    \"rail_lrt_kj\": \"Kelana Jaya Line\",\n",
    "    \"rail_monorail\": \"KL Monorail\",\n",
    "    \"rail_mrt_pjy\": \"Putrajaya Line\",\n",
    "    \"rail_mrt_kajang\": \"Kajang Line\",\n",
    "    \"rail_komuter\": \"KTM\"\n",
    "}, inplace=True)\n",
    "\n",
    "# 1. Ensure date is parsed as datetime\n",
    "df[\"date\"] = pd.to_datetime(df[\"date\"])\n",
    "\n",
    "# 2. Extract year\n",
    "df[\"year\"] = df[\"date\"].dt.year\n",
    "\n",
    "# 3. Group by year and sum numeric columns\n",
    "df_yearly = df.groupby(\"year\", as_index=False).sum(numeric_only=True)\n",
    "\n",
    "df_yearly = df_yearly.melt(\n",
    "    id_vars=[\"year\"],\n",
    "    var_name=\"route_line\",\n",
    "    value_name=\"total_ridership\"\n",
    ")\n",
    "df_yearly = df_yearly.pivot(\n",
    "    index=\"route_line\",\n",
    "    columns=\"year\",\n",
    "    values=\"total_ridership\"\n",
    ")\n",
    "\n",
    "df_yearly.columns = [f\"ridership_{int(c)}\" for c in df_yearly.columns]\n",
    "\n",
    "df_yearly = df_yearly.reset_index()\n",
    "\n",
    "# 4. Save to new file\n",
    "df_yearly.to_csv(\"transport_yearly_sum.csv\", index=False)\n",
    "\n"
   ]
  },
  {
   "cell_type": "code",
   "execution_count": 1,
   "id": "2d66a922",
   "metadata": {},
   "outputs": [],
   "source": [
    "import pandas as pd\n",
    "\n",
    "# Load your original daily CSV\n",
    "df = pd.read_csv(\"ridership_headline.csv\")\n",
    "\n",
    "# Fill empty values with 0\n",
    "df = df.fillna(0)\n",
    "\n",
    "# Combine ETS, Intercity, Komuter_Utara, Tebrau, and Komuter into one commuter column\n",
    "df[\"rail_komuter_total\"] = (\n",
    "    df[\"rail_ets\"] +\n",
    "    df[\"rail_intercity\"] +\n",
    "    df[\"rail_komuter_utara\"] +\n",
    "    df[\"rail_tebrau\"] +\n",
    "    df[\"rail_komuter\"]\n",
    ")\n",
    "\n",
    "# Keep only the rail lines you want\n",
    "df = df[[\"date\",\"rail_lrt_ampang\",\"rail_mrt_kajang\",\"rail_lrt_kj\",\"rail_monorail\",\"rail_mrt_pjy\",\"rail_komuter_total\"]]\n",
    "\n",
    "df.rename(columns={\n",
    "    \"rail_lrt_ampang\": \"Ampang Line\",\n",
    "    \"rail_lrt_kj\": \"Kelana Jaya Line\",\n",
    "    \"rail_monorail\": \"KL Monorail\",\n",
    "    \"rail_mrt_pjy\": \"Putrajaya Line\",\n",
    "    \"rail_mrt_kajang\": \"Kajang Line\",\n",
    "    \"rail_komuter_total\": \"KTM\"\n",
    "}, inplace=True)\n",
    "\n",
    "df[\"date\"] = pd.to_datetime(df[\"date\"])\n",
    "df = df[(df[\"date\"].dt.year >= 2020) & (df[\"date\"].dt.year <= 2024)]\n",
    "\n",
    "# Pivot longer so each row = route + day\n",
    "df_long = df.melt(\n",
    "    id_vars=[\"date\"], \n",
    "    value_vars=[\"Ampang Line\",\"Kajang Line\",\"Kelana Jaya Line\",\"KL Monorail\",\"Putrajaya Line\",\"KTM\"],\n",
    "    var_name=\"route_line\", \n",
    "    value_name=\"ridership\"\n",
    ")\n",
    "\n",
    "# Save CSV\n",
    "df_long.to_csv(\"ridership_filtered.csv\", index=False)\n"
   ]
  },
  {
   "cell_type": "code",
   "execution_count": 2,
   "id": "f9b23b13",
   "metadata": {},
   "outputs": [
    {
     "name": "stdout",
     "output_type": "stream",
     "text": [
      "['Putrajaya Line' 'KTM' 'Kajang Line' 'Kelana Jaya Line' 'KL Monorail'\n",
      " 'Ampang Line']\n"
     ]
    }
   ],
   "source": [
    "import geopandas as gpd\n",
    "\n",
    "gdf = gpd.read_file(\"../map_data/routes_selangor.geojson\")\n",
    "gdf = gdf[gdf[\"name:en\"].str.contains(\"Kelana Jaya|Ampang|Putrajaya|Kajang|KTM|Monorail\", case=False, na=False)]\n",
    "gdf[\"name:en\"] = gdf[\"name:en\"].replace(\n",
    "    {\"Ampang and Sri Petaling Lines\" : \"Ampang Line\"}\n",
    ")\n",
    "print(gdf[\"name:en\"].unique())\n",
    "gdf.to_file(\"routes_selangor2.geojson\", driver=\"GeoJSON\")\n"
   ]
  },
  {
   "cell_type": "code",
   "execution_count": 2,
   "id": "b0f1d4ae",
   "metadata": {},
   "outputs": [
    {
     "name": "stdout",
     "output_type": "stream",
     "text": [
      "         date  ron95  ron97\n",
      "41 2024-12-26   2.05   3.25\n",
      "42 2024-12-19   2.05   3.22\n",
      "43 2024-12-12   2.05   3.19\n",
      "44 2024-12-05   2.05   3.19\n",
      "45 2024-11-28   2.05   3.19\n"
     ]
    }
   ],
   "source": [
    "import pandas as pd\n",
    "\n",
    "# Load CSV\n",
    "df = pd.read_csv('fuelprice.csv')\n",
    "\n",
    "# Ensure 'date' is parsed as datetime\n",
    "df['date'] = pd.to_datetime(df['date'], errors='coerce')\n",
    "\n",
    "# Filter: series == 'level'\n",
    "df = df[df['series_type'] == 'level']\n",
    "\n",
    "# Keep only needed columns (make sure they exist)\n",
    "columns_to_keep = ['date', 'ron95', 'ron97']\n",
    "df = df[columns_to_keep]\n",
    "\n",
    "# Filter date range: 2020 - 2024 inclusive\n",
    "df = df[(df['date'].dt.year >= 2020) & (df['date'].dt.year <= 2024)]\n",
    "\n",
    "# Save filtered data (optional)\n",
    "df.to_csv('fuelprice_filtered.csv', index=False)\n",
    "\n",
    "print(df.head())\n"
   ]
  },
  {
   "cell_type": "code",
   "execution_count": 15,
   "id": "d3d58d61",
   "metadata": {},
   "outputs": [
    {
     "name": "stdout",
     "output_type": "stream",
     "text": [
      "Population columns: ['year', 'state', 'district', 'sex', 'age', 'ethnicity', 'population']\n",
      "Area columns: ['district', 'area_km2']\n"
     ]
    }
   ],
   "source": [
    "import pandas as pd\n",
    "\n",
    "# Read CSV files\n",
    "df = pd.read_csv(\"population_district_filtered.csv\")\n",
    "df_area = pd.read_csv(\"district_area.csv\")\n",
    "\n",
    "# Clean column names\n",
    "df.columns = df.columns.str.strip().str.lower().str.replace(\" \", \"_\")\n",
    "df_area.columns = df_area.columns.str.strip().str.lower().str.replace(\" \", \"_\")\n",
    "\n",
    "print(\"Population columns:\", df.columns.tolist())\n",
    "print(\"Area columns:\", df_area.columns.tolist())\n",
    "\n",
    "# Convert population to absolute numbers\n",
    "df[\"population_absolute\"] = df[\"population\"] * 1000\n",
    "\n",
    "# Merge and calculate density\n",
    "merged_df = pd.merge(df, df_area, on=\"district\", how=\"left\")\n",
    "merged_df[\"population_density\"] = merged_df[\"population_absolute\"] / merged_df[\"area_km2\"]\n",
    "\n",
    "# Filter and export\n",
    "filtered_df = merged_df[(merged_df[\"year\"] >= 2020) & (merged_df[\"year\"] <= 2024)]\n",
    "filtered_df.to_csv(\"population_district_filtered.csv\", index=False)\n"
   ]
  }
 ],
 "metadata": {
  "kernelspec": {
   "display_name": "Python 3",
   "language": "python",
   "name": "python3"
  },
  "language_info": {
   "codemirror_mode": {
    "name": "ipython",
    "version": 3
   },
   "file_extension": ".py",
   "mimetype": "text/x-python",
   "name": "python",
   "nbconvert_exporter": "python",
   "pygments_lexer": "ipython3",
   "version": "3.11.3"
  }
 },
 "nbformat": 4,
 "nbformat_minor": 5
}
